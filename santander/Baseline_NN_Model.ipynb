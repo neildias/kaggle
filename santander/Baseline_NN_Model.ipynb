{
 "cells": [
  {
   "cell_type": "code",
   "execution_count": 1,
   "id": "chinese-angle",
   "metadata": {},
   "outputs": [],
   "source": [
    "import torch\n",
    "from torch import utils\n",
    "import pandas as pd\n",
    "from sklearn import metrics\n",
    "from torch import optim\n",
    "import matplotlib.pyplot as plt"
   ]
  },
  {
   "cell_type": "code",
   "execution_count": 2,
   "id": "paperback-property",
   "metadata": {},
   "outputs": [],
   "source": [
    "from torch.utils.data import TensorDataset, DataLoader"
   ]
  },
  {
   "cell_type": "code",
   "execution_count": 3,
   "id": "judicial-tobago",
   "metadata": {},
   "outputs": [],
   "source": [
    "DEVICE = \"cuda\" if torch.cuda.is_available() else \"cpu\"\n",
    "\n",
    "train_path = \"data/train.csv\"\n",
    "test_path = \"data/test.csv\""
   ]
  },
  {
   "cell_type": "code",
   "execution_count": 4,
   "id": "killing-shirt",
   "metadata": {},
   "outputs": [],
   "source": [
    "def splitter_convertor(df, kaggle_test=False):\n",
    "    \"\"\"Splits the data between train and val set, and returns tensors of them\"\"\"\n",
    "    \n",
    "    if not kaggle_test:\n",
    "        features = df.drop(['target', 'ID_code'], axis=1).copy()\n",
    "        target = df.target.copy()\n",
    "        \n",
    "    else: #as kaggle test set have no target\n",
    "        features = df.drop(['ID_code'], axis=1).copy()\n",
    "        \n",
    "    # tensor conversion\n",
    "    feat_tensors = torch.tensor(features.values, dtype=torch.float32)\n",
    "    if not kaggle_test:\n",
    "        tar_tensors = torch.tensor(target.values, dtype=torch.float32)\n",
    "    \n",
    "    if not kaggle_test:\n",
    "        return feat_tensors, tar_tensors\n",
    "    \n",
    "    # if only kaggle test set\n",
    "    return feat_tensors"
   ]
  },
  {
   "cell_type": "code",
   "execution_count": 5,
   "id": "respected-tongue",
   "metadata": {},
   "outputs": [],
   "source": [
    "def retrieve_data(train_path, test_path):\n",
    "    \"\"\"Gets data and returns torch datasets: train, valid and test\"\"\"\n",
    "    \n",
    "    train_df = pd.read_csv(train_path)\n",
    "    test_df = pd.read_csv(test_path)\n",
    "    \n",
    "    # feature - target split and conversion\n",
    "    train_feat_tensors, train_target_tensors = splitter_convertor(train_df)\n",
    "    test_feat_tensor = splitter_convertor(test_df, kaggle_test=True)\n",
    "    \n",
    "    # tensor to tensor dataset conversion\n",
    "    train_dataset = TensorDataset(train_feat_tensors, train_target_tensors)\n",
    "    test_dataset = TensorDataset(test_feat_tensor)\n",
    "    \n",
    "    # train - val split (only for train data)\n",
    "    training_tds, valid_tds = utils.data.dataset.random_split(train_dataset,\n",
    "                                                            [int(0.8*len(train_dataset)), \n",
    "                                                             int(0.2*len(train_dataset))])\n",
    "    return training_tds, valid_tds, test_dataset"
   ]
  },
  {
   "cell_type": "code",
   "execution_count": 6,
   "id": "light-rescue",
   "metadata": {},
   "outputs": [],
   "source": [
    "def DataLoaders():\n",
    "    train_ds, valid_ds, test_ds = retrieve_data(train_path, test_path)\n",
    "    return (DataLoader(train_ds, batch_size=512),\n",
    "            DataLoader(valid_ds, batch_size=512),\n",
    "            DataLoader(test_ds, batch_size=512))"
   ]
  },
  {
   "cell_type": "code",
   "execution_count": 7,
   "id": "another-intelligence",
   "metadata": {},
   "outputs": [],
   "source": [
    "class BaselineNet(torch.nn.Module):\n",
    "    \n",
    "    def __init__(self, input_size):\n",
    "        super().__init__()\n",
    "        self.base_net = torch.nn.Sequential(\n",
    "            torch.nn.BatchNorm1d(input_size),\n",
    "            torch.nn.Linear(input_size, 100),\n",
    "            torch.nn.ReLU(inplace=True),\n",
    "            torch.nn.Linear(100,1),     \n",
    "       )\n",
    "        \n",
    "    def forward(self, x):\n",
    "        return self.base_net(x).view(-1)\n",
    "    "
   ]
  },
  {
   "cell_type": "code",
   "execution_count": 8,
   "id": "little-message",
   "metadata": {},
   "outputs": [],
   "source": [
    "train_dl, valid_dl, test_dl = DataLoaders()"
   ]
  },
  {
   "cell_type": "code",
   "execution_count": 9,
   "id": "governmental-sound",
   "metadata": {},
   "outputs": [],
   "source": [
    "X, y = next(iter(train_dl))"
   ]
  },
  {
   "cell_type": "code",
   "execution_count": 10,
   "id": "severe-player",
   "metadata": {},
   "outputs": [
    {
     "data": {
      "text/plain": [
       "torch.Size([512, 200])"
      ]
     },
     "execution_count": 10,
     "metadata": {},
     "output_type": "execute_result"
    }
   ],
   "source": [
    "X.shape"
   ]
  },
  {
   "cell_type": "code",
   "execution_count": 11,
   "id": "improved-patch",
   "metadata": {},
   "outputs": [],
   "source": [
    "base_model = BaselineNet(input_size=200)"
   ]
  },
  {
   "cell_type": "code",
   "execution_count": 12,
   "id": "hollow-farming",
   "metadata": {},
   "outputs": [],
   "source": [
    "optim_1 = optim.Adam(base_model.parameters(), lr=6e-4, weight_decay=1e-4)"
   ]
  },
  {
   "cell_type": "code",
   "execution_count": 13,
   "id": "australian-stanley",
   "metadata": {},
   "outputs": [],
   "source": [
    "criterion = torch.nn.BCEWithLogitsLoss()"
   ]
  },
  {
   "cell_type": "code",
   "execution_count": 14,
   "id": "practical-replication",
   "metadata": {},
   "outputs": [],
   "source": [
    "def model_trainer(dl, model, optimiser, criterion, epochs=10):\n",
    "    losses = []\n",
    "\n",
    "\n",
    "    for epoch in range(epochs):\n",
    "        for batch_no, (features, target) in enumerate(train_dl):\n",
    "            features = features.to(DEVICE)\n",
    "            target = target.to(DEVICE)\n",
    "            model.to(DEVICE)\n",
    "\n",
    "            #predictions\n",
    "            preds = model.forward(features)\n",
    "            loss = criterion(preds, target)\n",
    "\n",
    "            #grad calc and update\n",
    "            optimiser.zero_grad()\n",
    "            loss.backward()\n",
    "            optimiser.step()\n",
    "        losses.append(loss)\n",
    "        \n",
    "    plt.plot(range(epochs), losses)\n",
    "    \n",
    "    return model"
   ]
  },
  {
   "cell_type": "markdown",
   "id": "parental-tragedy",
   "metadata": {},
   "source": [
    "### Using Adam optimiser"
   ]
  },
  {
   "cell_type": "code",
   "execution_count": 15,
   "id": "featured-viewer",
   "metadata": {},
   "outputs": [
    {
     "data": {
      "image/png": "[encoded data removed]",
      "text/plain": [
       "<Figure size 432x288 with 1 Axes>"
      ]
     },
     "metadata": {
      "needs_background": "light"
     },
     "output_type": "display_data"
    }
   ],
   "source": [
    "adam_model = model_trainer(\n",
    "    dl=train_dl,\n",
    "    model=base_model,\n",
    "    optimiser=optim_1,\n",
    "    epochs=50,\n",
    "    criterion=criterion,\n",
    ")"
   ]
  },
  {
   "cell_type": "code",
   "execution_count": 16,
   "id": "canadian-power",
   "metadata": {},
   "outputs": [],
   "source": [
    "def roc_scorer(loader, model, device):\n",
    "    model.eval()\n",
    "    preds, actuals = [],[]\n",
    "    \n",
    "    with torch.no_grad():\n",
    "        for feats, target in loader:\n",
    "            feats = feats.to(device)\n",
    "            target = target.to(device)\n",
    "            predictions = model.forward(feats)\n",
    "            preds += predictions.tolist()\n",
    "            actuals += target.tolist()\n",
    "    \n",
    "    # roc_calc\n",
    "    roc_score = metrics.roc_auc_score(actuals, preds)\n",
    "    \n",
    "    model.train()\n",
    "    return roc_score"
   ]
  },
  {
   "cell_type": "code",
   "execution_count": 17,
   "id": "pediatric-opposition",
   "metadata": {},
   "outputs": [
    {
     "data": {
      "text/plain": [
       "0.8294936461287504"
      ]
     },
     "execution_count": 17,
     "metadata": {},
     "output_type": "execute_result"
    }
   ],
   "source": [
    "roc_scorer(valid_dl, adam_model, device=DEVICE)"
   ]
  },
  {
   "cell_type": "markdown",
   "id": "average-ethiopia",
   "metadata": {},
   "source": [
    "### using RMSProp"
   ]
  },
  {
   "cell_type": "code",
   "execution_count": 18,
   "id": "robust-faith",
   "metadata": {},
   "outputs": [],
   "source": [
    "base_model_2 = BaselineNet(input_size=200)"
   ]
  },
  {
   "cell_type": "code",
   "execution_count": 19,
   "id": "technical-parcel",
   "metadata": {},
   "outputs": [],
   "source": [
    "optim_2 = optim.RMSprop(base_model_2.parameters(), lr=2e-3, weight_decay=1e-4)\n",
    "criterion = torch.nn.BCEWithLogitsLoss()"
   ]
  },
  {
   "cell_type": "code",
   "execution_count": 20,
   "id": "metropolitan-circular",
   "metadata": {},
   "outputs": [
    {
     "data": {
      "image/png": "[encoded data removed]",
      "text/plain": [
       "<Figure size 432x288 with 1 Axes>"
      ]
     },
     "metadata": {
      "needs_background": "light"
     },
     "output_type": "display_data"
    }
   ],
   "source": [
    "rmsProp_model = model_trainer(\n",
    "    dl=train_dl,\n",
    "    model=base_model_2,\n",
    "    optimiser=optim_2,\n",
    "    epochs=50,\n",
    "    criterion=criterion,\n",
    ")"
   ]
  },
  {
   "cell_type": "code",
   "execution_count": 21,
   "id": "corrected-hypothesis",
   "metadata": {},
   "outputs": [
    {
     "data": {
      "text/plain": [
       "0.8188872123051967"
      ]
     },
     "execution_count": 21,
     "metadata": {},
     "output_type": "execute_result"
    }
   ],
   "source": [
    "roc_scorer(valid_dl, rmsProp_model, device=DEVICE)"
   ]
  },
  {
   "cell_type": "markdown",
   "id": "christian-advice",
   "metadata": {},
   "source": [
    "Adam optimiser has performed better than RMSProp on this dataset."
   ]
  }
 ],
 "metadata": {
  "kernelspec": {
   "display_name": "Python 3",
   "language": "python",
   "name": "python3"
  },
  "language_info": {
   "codemirror_mode": {
    "name": "ipython",
    "version": 3
   },
   "file_extension": ".py",
   "mimetype": "text/x-python",
   "name": "python",
   "nbconvert_exporter": "python",
   "pygments_lexer": "ipython3",
   "version": "3.7.3"
  }
 },
 "nbformat": 4,
 "nbformat_minor": 5
}
