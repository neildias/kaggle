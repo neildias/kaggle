{
 "cells": [
  {
   "cell_type": "code",
   "execution_count": 1,
   "metadata": {},
   "outputs": [],
   "source": [
    "import warnings\n",
    "warnings.filterwarnings(\"ignore\")\n",
    "import pandas as pd\n",
    "import numpy as np\n",
    "\n",
    "from sklearn.pipeline import Pipeline\n",
    "from sklearn.preprocessing import LabelEncoder\n",
    "from sklearn import metrics\n",
    "from sklearn.model_selection import train_test_split, cross_val_predict\n",
    "from sklearn.linear_model import LogisticRegression\n",
    "from sklearn.ensemble import RandomForestClassifier, AdaBoostClassifier, GradientBoostingClassifier\n",
    "from sklearn.neighbors import KNeighborsClassifier\n",
    "from utils.transformers import CabinExtraction, FamilyPresence, CustomLabelEncoder\n",
    "from utils.baseline_dataframe import Relevant_Cols"
   ]
  },
  {
   "cell_type": "markdown",
   "metadata": {},
   "source": [
    "## Dropping of NA values from the Age column to see its effect on model performance"
   ]
  },
  {
   "cell_type": "code",
   "execution_count": 2,
   "metadata": {},
   "outputs": [],
   "source": [
    "path = \"data/train.csv\"\n",
    "use_cols=['PassengerId', 'Survived', 'Pclass', 'Sex', \n",
    "                          'Age', 'SibSp', 'Parch', 'Fare', 'Cabin', \n",
    "                          'Embarked']"
   ]
  },
  {
   "cell_type": "markdown",
   "metadata": {},
   "source": [
    "## Get Relevant DataFrame"
   ]
  },
  {
   "cell_type": "code",
   "execution_count": 3,
   "metadata": {},
   "outputs": [],
   "source": [
    "rev_cols = Relevant_Cols(path=path, use_cols=use_cols)"
   ]
  },
  {
   "cell_type": "code",
   "execution_count": 4,
   "metadata": {
    "scrolled": true
   },
   "outputs": [
    {
     "data": {
      "text/html": [
       "<div>\n",
       "<style scoped>\n",
       "    .dataframe tbody tr th:only-of-type {\n",
       "        vertical-align: middle;\n",
       "    }\n",
       "\n",
       "    .dataframe tbody tr th {\n",
       "        vertical-align: top;\n",
       "    }\n",
       "\n",
       "    .dataframe thead th {\n",
       "        text-align: right;\n",
       "    }\n",
       "</style>\n",
       "<table border=\"1\" class=\"dataframe\">\n",
       "  <thead>\n",
       "    <tr style=\"text-align: right;\">\n",
       "      <th></th>\n",
       "      <th>Survived</th>\n",
       "      <th>Pclass</th>\n",
       "      <th>Sex</th>\n",
       "      <th>Age</th>\n",
       "      <th>Fare</th>\n",
       "      <th>Cabin</th>\n",
       "      <th>Embarked</th>\n",
       "      <th>HasFamily</th>\n",
       "    </tr>\n",
       "    <tr>\n",
       "      <th>PassengerId</th>\n",
       "      <th></th>\n",
       "      <th></th>\n",
       "      <th></th>\n",
       "      <th></th>\n",
       "      <th></th>\n",
       "      <th></th>\n",
       "      <th></th>\n",
       "      <th></th>\n",
       "    </tr>\n",
       "  </thead>\n",
       "  <tbody>\n",
       "    <tr>\n",
       "      <th>1</th>\n",
       "      <td>0</td>\n",
       "      <td>3</td>\n",
       "      <td>male</td>\n",
       "      <td>22.0</td>\n",
       "      <td>7.2500</td>\n",
       "      <td>Missing</td>\n",
       "      <td>S</td>\n",
       "      <td>True</td>\n",
       "    </tr>\n",
       "    <tr>\n",
       "      <th>2</th>\n",
       "      <td>1</td>\n",
       "      <td>1</td>\n",
       "      <td>female</td>\n",
       "      <td>38.0</td>\n",
       "      <td>71.2833</td>\n",
       "      <td>C</td>\n",
       "      <td>C</td>\n",
       "      <td>True</td>\n",
       "    </tr>\n",
       "    <tr>\n",
       "      <th>3</th>\n",
       "      <td>1</td>\n",
       "      <td>3</td>\n",
       "      <td>female</td>\n",
       "      <td>26.0</td>\n",
       "      <td>7.9250</td>\n",
       "      <td>Missing</td>\n",
       "      <td>S</td>\n",
       "      <td>False</td>\n",
       "    </tr>\n",
       "    <tr>\n",
       "      <th>4</th>\n",
       "      <td>1</td>\n",
       "      <td>1</td>\n",
       "      <td>female</td>\n",
       "      <td>35.0</td>\n",
       "      <td>53.1000</td>\n",
       "      <td>C</td>\n",
       "      <td>S</td>\n",
       "      <td>True</td>\n",
       "    </tr>\n",
       "    <tr>\n",
       "      <th>5</th>\n",
       "      <td>0</td>\n",
       "      <td>3</td>\n",
       "      <td>male</td>\n",
       "      <td>35.0</td>\n",
       "      <td>8.0500</td>\n",
       "      <td>Missing</td>\n",
       "      <td>S</td>\n",
       "      <td>False</td>\n",
       "    </tr>\n",
       "  </tbody>\n",
       "</table>\n",
       "</div>"
      ],
      "text/plain": [
       "             Survived  Pclass     Sex   Age     Fare    Cabin Embarked  \\\n",
       "PassengerId                                                              \n",
       "1                   0       3    male  22.0   7.2500  Missing        S   \n",
       "2                   1       1  female  38.0  71.2833        C        C   \n",
       "3                   1       3  female  26.0   7.9250  Missing        S   \n",
       "4                   1       1  female  35.0  53.1000        C        S   \n",
       "5                   0       3    male  35.0   8.0500  Missing        S   \n",
       "\n",
       "             HasFamily  \n",
       "PassengerId             \n",
       "1                 True  \n",
       "2                 True  \n",
       "3                False  \n",
       "4                 True  \n",
       "5                False  "
      ]
     },
     "execution_count": 4,
     "metadata": {},
     "output_type": "execute_result"
    }
   ],
   "source": [
    "df = rev_cols.modified_dataframe()\n",
    "df.head()"
   ]
  },
  {
   "cell_type": "markdown",
   "metadata": {},
   "source": [
    "### Train Test Split"
   ]
  },
  {
   "cell_type": "code",
   "execution_count": 5,
   "metadata": {},
   "outputs": [
    {
     "name": "stdout",
     "output_type": "stream",
     "text": [
      "Original Length of df : 891\n",
      "Length of df after dropping NAs : 714\n"
     ]
    }
   ],
   "source": [
    "print(f'Original Length of df : {len(df)}')\n",
    "df = df.loc[df.Age.notna(),:]\n",
    "print(f'Length of df after dropping NAs : {len(df)}')"
   ]
  },
  {
   "cell_type": "code",
   "execution_count": 6,
   "metadata": {},
   "outputs": [
    {
     "data": {
      "text/plain": [
       "(535, 179)"
      ]
     },
     "execution_count": 6,
     "metadata": {},
     "output_type": "execute_result"
    }
   ],
   "source": [
    "X = df.drop([\"Survived\"], axis=1).copy()\n",
    "y = df.Survived.copy()\n",
    "\n",
    "X_train, X_test, y_train, y_test = train_test_split(X, y, random_state=1)\n",
    "\n",
    "len(X_train), len(X_test)"
   ]
  },
  {
   "cell_type": "markdown",
   "metadata": {},
   "source": [
    "## Preprocessing"
   ]
  },
  {
   "cell_type": "code",
   "execution_count": 7,
   "metadata": {},
   "outputs": [],
   "source": [
    "X_train['Embarked'] = X_train.Embarked.fillna('S')\n",
    "X_test ['Embarked'] = X_test.Embarked.fillna('S')"
   ]
  },
  {
   "cell_type": "code",
   "execution_count": 8,
   "metadata": {},
   "outputs": [
    {
     "data": {
      "text/plain": [
       "S    411\n",
       "C    103\n",
       "Q     21\n",
       "Name: Embarked, dtype: int64"
      ]
     },
     "execution_count": 8,
     "metadata": {},
     "output_type": "execute_result"
    }
   ],
   "source": [
    "X_train.Embarked.value_counts()"
   ]
  },
  {
   "cell_type": "markdown",
   "metadata": {},
   "source": [
    "### Feature Engineering and Modification"
   ]
  },
  {
   "cell_type": "markdown",
   "metadata": {},
   "source": [
    "#### Sex"
   ]
  },
  {
   "cell_type": "code",
   "execution_count": 9,
   "metadata": {},
   "outputs": [],
   "source": [
    "label_enc_Sex = LabelEncoder()"
   ]
  },
  {
   "cell_type": "code",
   "execution_count": 10,
   "metadata": {},
   "outputs": [],
   "source": [
    "X_train.loc[:, 'Sex'] = label_enc_Sex.fit_transform(X_train['Sex'].values)\n",
    "\n",
    "X_test.loc[:, 'Sex'] = label_enc_Sex.transform(X_test['Sex'].values)"
   ]
  },
  {
   "cell_type": "markdown",
   "metadata": {},
   "source": [
    "#### Cabin"
   ]
  },
  {
   "cell_type": "markdown",
   "metadata": {},
   "source": [
    "Custom Label Encoder"
   ]
  },
  {
   "cell_type": "code",
   "execution_count": 11,
   "metadata": {},
   "outputs": [],
   "source": [
    "def get_category_mappings(df, col):\n",
    "    categories = df[col].value_counts().index.tolist()\n",
    "    \n",
    "    #get mappings\n",
    "   \n",
    "    dict_mapping = {}\n",
    "    for index, cats in enumerate(categories):\n",
    "        dict_mapping[cats] = index\n",
    "    # mapping for an unknown category\n",
    "    dict_mapping[\"unknown\"] = index+1\n",
    "    return dict_mapping\n",
    "\n",
    "def categorify(df, col, categories=None):\n",
    "    df = df.copy()\n",
    "    # train set for fitting\n",
    "    if not categories:\n",
    "        categories = get_category_mappings(df, col)\n",
    "        return df[col].map(categories), categories\n",
    "    \n",
    "    # test set for transformation based on the training set\n",
    "    # change all cats not in categories to unknown\n",
    "    df[col] = df[col].apply(lambda x: x if x in categories else \"unknown\")\n",
    "    return df[col].map(categories)"
   ]
  },
  {
   "cell_type": "code",
   "execution_count": 12,
   "metadata": {},
   "outputs": [
    {
     "data": {
      "text/plain": [
       "{'Missing': 0,\n",
       " 'C': 1,\n",
       " 'B': 2,\n",
       " 'D': 3,\n",
       " 'E': 4,\n",
       " 'A': 5,\n",
       " 'F': 6,\n",
       " 'G': 7,\n",
       " 'T': 8,\n",
       " 'unknown': 9}"
      ]
     },
     "execution_count": 12,
     "metadata": {},
     "output_type": "execute_result"
    }
   ],
   "source": [
    "X_train['Cabin'], cabin_cats = categorify(X_train, \"Cabin\");\n",
    "cabin_cats"
   ]
  },
  {
   "cell_type": "code",
   "execution_count": 13,
   "metadata": {},
   "outputs": [],
   "source": [
    "X_test['Cabin'] = categorify(X_test, \"Cabin\", cabin_cats)"
   ]
  },
  {
   "cell_type": "markdown",
   "metadata": {},
   "source": [
    "#### Embarked"
   ]
  },
  {
   "cell_type": "code",
   "execution_count": 14,
   "metadata": {},
   "outputs": [
    {
     "data": {
      "text/plain": [
       "{'S': 0, 'C': 1, 'Q': 2, 'unknown': 3}"
      ]
     },
     "execution_count": 14,
     "metadata": {},
     "output_type": "execute_result"
    }
   ],
   "source": [
    "X_train['Embarked'], emb_cats = categorify(X_train, 'Embarked');\n",
    "emb_cats"
   ]
  },
  {
   "cell_type": "code",
   "execution_count": 15,
   "metadata": {},
   "outputs": [],
   "source": [
    "X_test['Embarked'] = categorify(X_test, 'Embarked', emb_cats)"
   ]
  },
  {
   "cell_type": "markdown",
   "metadata": {},
   "source": [
    "## Helper functions for model comparisons"
   ]
  },
  {
   "cell_type": "code",
   "execution_count": 16,
   "metadata": {},
   "outputs": [],
   "source": [
    "# create a results dict\n",
    "\n",
    "result = {}"
   ]
  },
  {
   "cell_type": "code",
   "execution_count": 17,
   "metadata": {},
   "outputs": [],
   "source": [
    "def summarise_results(y_test, prediction):\n",
    "    \n",
    "    acc    = metrics.accuracy_score(y_test, prediction)\n",
    "    prec   = metrics.precision_score(y_test, prediction) \n",
    "    recall = metrics.recall_score(y_test, prediction)\n",
    "    \n",
    "    return {\n",
    "        'accuracy':  round(acc,4),\n",
    "        'precision': round(prec,4),\n",
    "        'recall':    round(recall,4)\n",
    "    }"
   ]
  },
  {
   "cell_type": "code",
   "execution_count": 18,
   "metadata": {},
   "outputs": [],
   "source": [
    "def show_result(reset=False):\n",
    "    return pd.DataFrame(result).T\n",
    "\n",
    "def reset_result():\n",
    "    result.clear()"
   ]
  },
  {
   "cell_type": "code",
   "execution_count": 19,
   "metadata": {},
   "outputs": [],
   "source": [
    "def fit(X,y,Xi):\n",
    "    def predict(clf,cv=True):\n",
    "        if cv:\n",
    "            return cross_val_predict(clf,X,y, cv=5)\n",
    "        return clf.fit(X,y).predict(Xi)\n",
    "    return predict"
   ]
  },
  {
   "cell_type": "markdown",
   "metadata": {},
   "source": [
    "## Initialise Algos"
   ]
  },
  {
   "cell_type": "code",
   "execution_count": 20,
   "metadata": {},
   "outputs": [],
   "source": [
    "logistic_regression = LogisticRegression()\n",
    "random_forest       = RandomForestClassifier()\n",
    "adaboost            = AdaBoostClassifier()\n",
    "gradient_boost      = GradientBoostingClassifier()\n",
    "knn                 = KNeighborsClassifier()"
   ]
  },
  {
   "cell_type": "markdown",
   "metadata": {},
   "source": [
    "## Baseline Models"
   ]
  },
  {
   "cell_type": "code",
   "execution_count": 21,
   "metadata": {},
   "outputs": [],
   "source": [
    "# generic model with customised prediction operation\n",
    "model = fit(X_train, y_train, X_test)"
   ]
  },
  {
   "cell_type": "code",
   "execution_count": 22,
   "metadata": {},
   "outputs": [],
   "source": [
    "# logistic regression\n",
    "\n",
    "logistic_regression_test  = model(logistic_regression, cv=False)\n",
    "logistic_regression_cv    = model(logistic_regression)"
   ]
  },
  {
   "cell_type": "code",
   "execution_count": null,
   "metadata": {},
   "outputs": [],
   "source": []
  },
  {
   "cell_type": "code",
   "execution_count": 23,
   "metadata": {},
   "outputs": [],
   "source": [
    "# Calculating accuracy and storing result for later reference\n",
    "\n",
    "result['LogisticRegression_Baseline_cv'] = summarise_results(y_train,\n",
    "                                                              logistic_regression_cv)\n",
    "result['LogisticRegression_Baseline_test'] = summarise_results(y_test,\n",
    "                                                               logistic_regression_test)\n"
   ]
  },
  {
   "cell_type": "code",
   "execution_count": 24,
   "metadata": {},
   "outputs": [
    {
     "data": {
      "text/html": [
       "<div>\n",
       "<style scoped>\n",
       "    .dataframe tbody tr th:only-of-type {\n",
       "        vertical-align: middle;\n",
       "    }\n",
       "\n",
       "    .dataframe tbody tr th {\n",
       "        vertical-align: top;\n",
       "    }\n",
       "\n",
       "    .dataframe thead th {\n",
       "        text-align: right;\n",
       "    }\n",
       "</style>\n",
       "<table border=\"1\" class=\"dataframe\">\n",
       "  <thead>\n",
       "    <tr style=\"text-align: right;\">\n",
       "      <th></th>\n",
       "      <th>accuracy</th>\n",
       "      <th>precision</th>\n",
       "      <th>recall</th>\n",
       "    </tr>\n",
       "  </thead>\n",
       "  <tbody>\n",
       "    <tr>\n",
       "      <th>LogisticRegression_Baseline_cv</th>\n",
       "      <td>0.7963</td>\n",
       "      <td>0.7664</td>\n",
       "      <td>0.7354</td>\n",
       "    </tr>\n",
       "    <tr>\n",
       "      <th>LogisticRegression_Baseline_test</th>\n",
       "      <td>0.7989</td>\n",
       "      <td>0.7460</td>\n",
       "      <td>0.7015</td>\n",
       "    </tr>\n",
       "  </tbody>\n",
       "</table>\n",
       "</div>"
      ],
      "text/plain": [
       "                                  accuracy  precision  recall\n",
       "LogisticRegression_Baseline_cv      0.7963     0.7664  0.7354\n",
       "LogisticRegression_Baseline_test    0.7989     0.7460  0.7015"
      ]
     },
     "execution_count": 24,
     "metadata": {},
     "output_type": "execute_result"
    }
   ],
   "source": [
    "show_result()"
   ]
  },
  {
   "cell_type": "code",
   "execution_count": 25,
   "metadata": {},
   "outputs": [
    {
     "data": {
      "text/html": [
       "<div>\n",
       "<style scoped>\n",
       "    .dataframe tbody tr th:only-of-type {\n",
       "        vertical-align: middle;\n",
       "    }\n",
       "\n",
       "    .dataframe tbody tr th {\n",
       "        vertical-align: top;\n",
       "    }\n",
       "\n",
       "    .dataframe thead th {\n",
       "        text-align: right;\n",
       "    }\n",
       "</style>\n",
       "<table border=\"1\" class=\"dataframe\">\n",
       "  <thead>\n",
       "    <tr style=\"text-align: right;\">\n",
       "      <th></th>\n",
       "      <th>accuracy</th>\n",
       "      <th>precision</th>\n",
       "      <th>recall</th>\n",
       "    </tr>\n",
       "  </thead>\n",
       "  <tbody>\n",
       "    <tr>\n",
       "      <th>LogisticRegression_Baseline_cv</th>\n",
       "      <td>0.7963</td>\n",
       "      <td>0.7664</td>\n",
       "      <td>0.7354</td>\n",
       "    </tr>\n",
       "    <tr>\n",
       "      <th>LogisticRegression_Baseline_test</th>\n",
       "      <td>0.7989</td>\n",
       "      <td>0.7460</td>\n",
       "      <td>0.7015</td>\n",
       "    </tr>\n",
       "    <tr>\n",
       "      <th>RandomForest_Baseline_cv</th>\n",
       "      <td>0.7907</td>\n",
       "      <td>0.7681</td>\n",
       "      <td>0.7130</td>\n",
       "    </tr>\n",
       "    <tr>\n",
       "      <th>RandomForest_Baseline_test</th>\n",
       "      <td>0.8380</td>\n",
       "      <td>0.8065</td>\n",
       "      <td>0.7463</td>\n",
       "    </tr>\n",
       "  </tbody>\n",
       "</table>\n",
       "</div>"
      ],
      "text/plain": [
       "                                  accuracy  precision  recall\n",
       "LogisticRegression_Baseline_cv      0.7963     0.7664  0.7354\n",
       "LogisticRegression_Baseline_test    0.7989     0.7460  0.7015\n",
       "RandomForest_Baseline_cv            0.7907     0.7681  0.7130\n",
       "RandomForest_Baseline_test          0.8380     0.8065  0.7463"
      ]
     },
     "execution_count": 25,
     "metadata": {},
     "output_type": "execute_result"
    }
   ],
   "source": [
    "random_forest_cv   = model(random_forest)\n",
    "random_forest_test = model(random_forest,cv=False)\n",
    "\n",
    "result[\"RandomForest_Baseline_cv\"] = summarise_results(y_train,\n",
    "                                                       random_forest_cv)\n",
    "result[\"RandomForest_Baseline_test\"] = summarise_results(y_test,\n",
    "                                                          random_forest_test)\n",
    "\n",
    "show_result()"
   ]
  },
  {
   "cell_type": "code",
   "execution_count": null,
   "metadata": {},
   "outputs": [],
   "source": []
  },
  {
   "cell_type": "code",
   "execution_count": 26,
   "metadata": {},
   "outputs": [
    {
     "data": {
      "text/html": [
       "<div>\n",
       "<style scoped>\n",
       "    .dataframe tbody tr th:only-of-type {\n",
       "        vertical-align: middle;\n",
       "    }\n",
       "\n",
       "    .dataframe tbody tr th {\n",
       "        vertical-align: top;\n",
       "    }\n",
       "\n",
       "    .dataframe thead th {\n",
       "        text-align: right;\n",
       "    }\n",
       "</style>\n",
       "<table border=\"1\" class=\"dataframe\">\n",
       "  <thead>\n",
       "    <tr style=\"text-align: right;\">\n",
       "      <th></th>\n",
       "      <th>accuracy</th>\n",
       "      <th>precision</th>\n",
       "      <th>recall</th>\n",
       "    </tr>\n",
       "  </thead>\n",
       "  <tbody>\n",
       "    <tr>\n",
       "      <th>LogisticRegression_Baseline_cv</th>\n",
       "      <td>0.7963</td>\n",
       "      <td>0.7664</td>\n",
       "      <td>0.7354</td>\n",
       "    </tr>\n",
       "    <tr>\n",
       "      <th>LogisticRegression_Baseline_test</th>\n",
       "      <td>0.7989</td>\n",
       "      <td>0.7460</td>\n",
       "      <td>0.7015</td>\n",
       "    </tr>\n",
       "    <tr>\n",
       "      <th>RandomForest_Baseline_cv</th>\n",
       "      <td>0.7907</td>\n",
       "      <td>0.7681</td>\n",
       "      <td>0.7130</td>\n",
       "    </tr>\n",
       "    <tr>\n",
       "      <th>RandomForest_Baseline_test</th>\n",
       "      <td>0.8380</td>\n",
       "      <td>0.8065</td>\n",
       "      <td>0.7463</td>\n",
       "    </tr>\n",
       "    <tr>\n",
       "      <th>Adaboost_Baseline_cv</th>\n",
       "      <td>0.7813</td>\n",
       "      <td>0.7387</td>\n",
       "      <td>0.7354</td>\n",
       "    </tr>\n",
       "    <tr>\n",
       "      <th>Adaboost_Baseline_test</th>\n",
       "      <td>0.8101</td>\n",
       "      <td>0.7324</td>\n",
       "      <td>0.7761</td>\n",
       "    </tr>\n",
       "  </tbody>\n",
       "</table>\n",
       "</div>"
      ],
      "text/plain": [
       "                                  accuracy  precision  recall\n",
       "LogisticRegression_Baseline_cv      0.7963     0.7664  0.7354\n",
       "LogisticRegression_Baseline_test    0.7989     0.7460  0.7015\n",
       "RandomForest_Baseline_cv            0.7907     0.7681  0.7130\n",
       "RandomForest_Baseline_test          0.8380     0.8065  0.7463\n",
       "Adaboost_Baseline_cv                0.7813     0.7387  0.7354\n",
       "Adaboost_Baseline_test              0.8101     0.7324  0.7761"
      ]
     },
     "execution_count": 26,
     "metadata": {},
     "output_type": "execute_result"
    }
   ],
   "source": [
    "# Adaboost predictions\n",
    "adaboost_cv   = model(adaboost)\n",
    "adaboost_test = model(adaboost, cv=False)\n",
    "\n",
    "result[\"Adaboost_Baseline_cv\"] = summarise_results(y_train,\n",
    "                                                    adaboost_cv)\n",
    "result[\"Adaboost_Baseline_test\"] = summarise_results(y_test,\n",
    "                                                          adaboost_test)\n",
    "\n",
    "show_result()"
   ]
  },
  {
   "cell_type": "code",
   "execution_count": 27,
   "metadata": {},
   "outputs": [
    {
     "data": {
      "text/html": [
       "<div>\n",
       "<style scoped>\n",
       "    .dataframe tbody tr th:only-of-type {\n",
       "        vertical-align: middle;\n",
       "    }\n",
       "\n",
       "    .dataframe tbody tr th {\n",
       "        vertical-align: top;\n",
       "    }\n",
       "\n",
       "    .dataframe thead th {\n",
       "        text-align: right;\n",
       "    }\n",
       "</style>\n",
       "<table border=\"1\" class=\"dataframe\">\n",
       "  <thead>\n",
       "    <tr style=\"text-align: right;\">\n",
       "      <th></th>\n",
       "      <th>accuracy</th>\n",
       "      <th>precision</th>\n",
       "      <th>recall</th>\n",
       "    </tr>\n",
       "  </thead>\n",
       "  <tbody>\n",
       "    <tr>\n",
       "      <th>LogisticRegression_Baseline_cv</th>\n",
       "      <td>0.7963</td>\n",
       "      <td>0.7664</td>\n",
       "      <td>0.7354</td>\n",
       "    </tr>\n",
       "    <tr>\n",
       "      <th>LogisticRegression_Baseline_test</th>\n",
       "      <td>0.7989</td>\n",
       "      <td>0.7460</td>\n",
       "      <td>0.7015</td>\n",
       "    </tr>\n",
       "    <tr>\n",
       "      <th>RandomForest_Baseline_cv</th>\n",
       "      <td>0.7907</td>\n",
       "      <td>0.7681</td>\n",
       "      <td>0.7130</td>\n",
       "    </tr>\n",
       "    <tr>\n",
       "      <th>RandomForest_Baseline_test</th>\n",
       "      <td>0.8380</td>\n",
       "      <td>0.8065</td>\n",
       "      <td>0.7463</td>\n",
       "    </tr>\n",
       "    <tr>\n",
       "      <th>Adaboost_Baseline_cv</th>\n",
       "      <td>0.7813</td>\n",
       "      <td>0.7387</td>\n",
       "      <td>0.7354</td>\n",
       "    </tr>\n",
       "    <tr>\n",
       "      <th>Adaboost_Baseline_test</th>\n",
       "      <td>0.8101</td>\n",
       "      <td>0.7324</td>\n",
       "      <td>0.7761</td>\n",
       "    </tr>\n",
       "    <tr>\n",
       "      <th>GradientBoost_Baseline_cv</th>\n",
       "      <td>0.8075</td>\n",
       "      <td>0.8125</td>\n",
       "      <td>0.6996</td>\n",
       "    </tr>\n",
       "    <tr>\n",
       "      <th>GradientBoost_Baseline_test</th>\n",
       "      <td>0.8603</td>\n",
       "      <td>0.9038</td>\n",
       "      <td>0.7015</td>\n",
       "    </tr>\n",
       "  </tbody>\n",
       "</table>\n",
       "</div>"
      ],
      "text/plain": [
       "                                  accuracy  precision  recall\n",
       "LogisticRegression_Baseline_cv      0.7963     0.7664  0.7354\n",
       "LogisticRegression_Baseline_test    0.7989     0.7460  0.7015\n",
       "RandomForest_Baseline_cv            0.7907     0.7681  0.7130\n",
       "RandomForest_Baseline_test          0.8380     0.8065  0.7463\n",
       "Adaboost_Baseline_cv                0.7813     0.7387  0.7354\n",
       "Adaboost_Baseline_test              0.8101     0.7324  0.7761\n",
       "GradientBoost_Baseline_cv           0.8075     0.8125  0.6996\n",
       "GradientBoost_Baseline_test         0.8603     0.9038  0.7015"
      ]
     },
     "execution_count": 27,
     "metadata": {},
     "output_type": "execute_result"
    }
   ],
   "source": [
    "# Gradient Boost predictions\n",
    "GB_cv    = model(gradient_boost)\n",
    "GB_test  = model(gradient_boost, cv=False)\n",
    "\n",
    "result[\"GradientBoost_Baseline_cv\"]   = summarise_results(y_train,\n",
    "                                                          GB_cv)\n",
    "result[\"GradientBoost_Baseline_test\"] = summarise_results(y_test,\n",
    "                                                          GB_test)\n",
    "\n",
    "show_result()"
   ]
  },
  {
   "cell_type": "code",
   "execution_count": 28,
   "metadata": {},
   "outputs": [
    {
     "data": {
      "text/html": [
       "<div>\n",
       "<style scoped>\n",
       "    .dataframe tbody tr th:only-of-type {\n",
       "        vertical-align: middle;\n",
       "    }\n",
       "\n",
       "    .dataframe tbody tr th {\n",
       "        vertical-align: top;\n",
       "    }\n",
       "\n",
       "    .dataframe thead th {\n",
       "        text-align: right;\n",
       "    }\n",
       "</style>\n",
       "<table border=\"1\" class=\"dataframe\">\n",
       "  <thead>\n",
       "    <tr style=\"text-align: right;\">\n",
       "      <th></th>\n",
       "      <th>accuracy</th>\n",
       "      <th>precision</th>\n",
       "      <th>recall</th>\n",
       "    </tr>\n",
       "  </thead>\n",
       "  <tbody>\n",
       "    <tr>\n",
       "      <th>LogisticRegression_Baseline_cv</th>\n",
       "      <td>0.7963</td>\n",
       "      <td>0.7664</td>\n",
       "      <td>0.7354</td>\n",
       "    </tr>\n",
       "    <tr>\n",
       "      <th>LogisticRegression_Baseline_test</th>\n",
       "      <td>0.7989</td>\n",
       "      <td>0.7460</td>\n",
       "      <td>0.7015</td>\n",
       "    </tr>\n",
       "    <tr>\n",
       "      <th>RandomForest_Baseline_cv</th>\n",
       "      <td>0.7907</td>\n",
       "      <td>0.7681</td>\n",
       "      <td>0.7130</td>\n",
       "    </tr>\n",
       "    <tr>\n",
       "      <th>RandomForest_Baseline_test</th>\n",
       "      <td>0.8380</td>\n",
       "      <td>0.8065</td>\n",
       "      <td>0.7463</td>\n",
       "    </tr>\n",
       "    <tr>\n",
       "      <th>Adaboost_Baseline_cv</th>\n",
       "      <td>0.7813</td>\n",
       "      <td>0.7387</td>\n",
       "      <td>0.7354</td>\n",
       "    </tr>\n",
       "    <tr>\n",
       "      <th>Adaboost_Baseline_test</th>\n",
       "      <td>0.8101</td>\n",
       "      <td>0.7324</td>\n",
       "      <td>0.7761</td>\n",
       "    </tr>\n",
       "    <tr>\n",
       "      <th>GradientBoost_Baseline_cv</th>\n",
       "      <td>0.8075</td>\n",
       "      <td>0.8125</td>\n",
       "      <td>0.6996</td>\n",
       "    </tr>\n",
       "    <tr>\n",
       "      <th>GradientBoost_Baseline_test</th>\n",
       "      <td>0.8603</td>\n",
       "      <td>0.9038</td>\n",
       "      <td>0.7015</td>\n",
       "    </tr>\n",
       "    <tr>\n",
       "      <th>KNN_Baseline_cv</th>\n",
       "      <td>0.6766</td>\n",
       "      <td>0.6238</td>\n",
       "      <td>0.5650</td>\n",
       "    </tr>\n",
       "    <tr>\n",
       "      <th>KNN_Baseline_test</th>\n",
       "      <td>0.7374</td>\n",
       "      <td>0.6515</td>\n",
       "      <td>0.6418</td>\n",
       "    </tr>\n",
       "  </tbody>\n",
       "</table>\n",
       "</div>"
      ],
      "text/plain": [
       "                                  accuracy  precision  recall\n",
       "LogisticRegression_Baseline_cv      0.7963     0.7664  0.7354\n",
       "LogisticRegression_Baseline_test    0.7989     0.7460  0.7015\n",
       "RandomForest_Baseline_cv            0.7907     0.7681  0.7130\n",
       "RandomForest_Baseline_test          0.8380     0.8065  0.7463\n",
       "Adaboost_Baseline_cv                0.7813     0.7387  0.7354\n",
       "Adaboost_Baseline_test              0.8101     0.7324  0.7761\n",
       "GradientBoost_Baseline_cv           0.8075     0.8125  0.6996\n",
       "GradientBoost_Baseline_test         0.8603     0.9038  0.7015\n",
       "KNN_Baseline_cv                     0.6766     0.6238  0.5650\n",
       "KNN_Baseline_test                   0.7374     0.6515  0.6418"
      ]
     },
     "execution_count": 28,
     "metadata": {},
     "output_type": "execute_result"
    }
   ],
   "source": [
    "# kNN predictions\n",
    "knn_cv   = model(knn)\n",
    "knn_test = model(knn, cv=False)\n",
    "\n",
    "result[\"KNN_Baseline_cv\"]   = summarise_results(y_train, knn_cv)\n",
    "result[\"KNN_Baseline_test\"] = summarise_results(y_test, knn_test)\n",
    "\n",
    "final = show_result(); final"
   ]
  },
  {
   "cell_type": "code",
   "execution_count": 29,
   "metadata": {},
   "outputs": [
    {
     "data": {
      "image/png": "[encoded data removed]",
      "text/plain": [
       "<Figure size 1080x576 with 1 Axes>"
      ]
     },
     "metadata": {
      "needs_background": "light"
     },
     "output_type": "display_data"
    }
   ],
   "source": [
    "import matplotlib.pyplot as plt\n",
    "\n",
    "plt.figure(figsize=(15,8))\n",
    "plt.plot(final[\"accuracy\"], label=\"Accuracy\")\n",
    "plt.plot(final[\"precision\"], label=\"Precision\")\n",
    "plt.plot(final[\"recall\"], label=\"Recall\")\n",
    "plt.legend()\n",
    "plt.xticks(rotation=45, ha='right'); #fig.autofmt_xdate(rotation=45)"
   ]
  }
 ],
 "metadata": {
  "kernelspec": {
   "display_name": "Python 3",
   "language": "python",
   "name": "python3"
  },
  "language_info": {
   "codemirror_mode": {
    "name": "ipython",
    "version": 3
   },
   "file_extension": ".py",
   "mimetype": "text/x-python",
   "name": "python",
   "nbconvert_exporter": "python",
   "pygments_lexer": "ipython3",
   "version": "3.8.5"
  }
 },
 "nbformat": 4,
 "nbformat_minor": 4
}
